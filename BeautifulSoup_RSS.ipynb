{
 "cells": [
  {
   "cell_type": "code",
   "execution_count": 10,
   "metadata": {},
   "outputs": [
    {
     "name": "stdout",
     "output_type": "stream",
     "text": [
      "[{'title': 'الشيلي تدعم المملكة', 'link': 'https://www.hespress.com/videos/409494.html'}, {'title': 'أتراك يصلون خطأً عكس القبلة منذ 37 عاما', 'link': 'https://www.hespress.com/varieties/409492.html'}, {'title': 'هذه علامات تدل على أن مستخدم فيسبوك يعاني من الاكتئاب', 'link': 'https://www.hespress.com/varieties/409491.html'}, {'title': 'أمن مراكش يتابع وفاة سيدة سقطت من شاهق', 'link': 'https://www.hespress.com/faits-divers/409488.html'}, {'title': 'عروض فنية بمعرض الفرس', 'link': 'https://www.hespress.com/videos/409487.html'}, {'title': 'شيعي مغربي يُحرق جسده طالبا ترحيله خارج البلاد', 'link': 'https://www.hespress.com/faits-divers/409485.html'}, {'title': 'الكويت ترحب بقرارات السعودية بشأن ملف خاشقجي', 'link': 'https://www.hespress.com/international/409479.html'}, {'title': 'حقيقة إهمال ناجية من الموت', 'link': 'https://www.hespress.com/videos/409478.html'}, {'title': 'جائزة الصحافة العربية تفتح باب الترشح لدورتها الـ18', 'link': 'https://www.hespress.com/medias/409470.html'}, {'title': 'السلطات الكامرونية تكافح جريمة كيّ نهود الفتيات', 'link': 'https://www.hespress.com/varieties/409468.html'}, {'title': 'زخات رعدية قوية بالمغرب يومي الأحد والاثنين', 'link': 'https://www.hespress.com/regions/409464.html'}, {'title': 'أمريكا تعتزم الانسحاب من معاهدة الأسلحة النووية', 'link': 'https://www.hespress.com/international/409462.html'}, {'title': 'بنعطية ينثر سحره المغربي في يوفنتوس الإيطالي', 'link': 'https://www.hespress.com/sport/409460.html'}, {'title': 'زياش يتألق بقيادة أجاكس إلى انتصار ساحق', 'link': 'https://www.hespress.com/sport/409459.html'}, {'title': 'السكر يسبب ارتكاب شرطي لحادثة سير ببني ملال', 'link': 'https://www.hespress.com/faits-divers/409456.html'}, {'title': 'اليوم العالمي للمراقب الجوي', 'link': 'https://www.hespress.com/videos/409455.html'}, {'title': 'أزمة السير تخنق البيضاء', 'link': 'https://www.hespress.com/videos/409454.html'}, {'title': 'سقوط قنطرة يصرع سيدة', 'link': 'https://www.hespress.com/videos/409453.html'}, {'title': 'الداخلية والأراضي السلالية', 'link': 'https://www.hespress.com/videos/409451.html'}, {'title': 'إسبانيا ترحّل مغاربة وصلوا إلى الجزر الجعفرية', 'link': 'https://www.hespress.com/faits-divers/409449.html'}]\n"
     ]
    }
   ],
   "source": [
    "import requests\n",
    "import json\n",
    "from bs4 import BeautifulSoup\n",
    "\n",
    "url = \"https://www.hespress.com/feed\"\n",
    "\n",
    "resp = requests.get(url)\n",
    "\n",
    "soup = BeautifulSoup(resp.content, features=\"xml\")\n",
    "\n",
    "items = soup.findAll('item')\n",
    "\n",
    "news_items = []\n",
    "\n",
    "for item in items:\n",
    "    news_item = {}\n",
    "    news_item['title'] = item.title.text\n",
    "    news_item['link'] = item.link.text\n",
    "    #news_item['description'] = item.description.text\n",
    "    #news_item['image'] = item.content['url']\n",
    "    news_items.append(news_item)\n",
    "print(news_items)"
   ]
  },
  {
   "cell_type": "code",
   "execution_count": null,
   "metadata": {},
   "outputs": [],
   "source": []
  },
  {
   "cell_type": "code",
   "execution_count": null,
   "metadata": {},
   "outputs": [],
   "source": []
  },
  {
   "cell_type": "code",
   "execution_count": null,
   "metadata": {},
   "outputs": [],
   "source": []
  }
 ],
 "metadata": {
  "kernelspec": {
   "display_name": "Python 3",
   "language": "python",
   "name": "python3"
  },
  "language_info": {
   "codemirror_mode": {
    "name": "ipython",
    "version": 3
   },
   "file_extension": ".py",
   "mimetype": "text/x-python",
   "name": "python",
   "nbconvert_exporter": "python",
   "pygments_lexer": "ipython3",
   "version": "3.6.5"
  }
 },
 "nbformat": 4,
 "nbformat_minor": 2
}
